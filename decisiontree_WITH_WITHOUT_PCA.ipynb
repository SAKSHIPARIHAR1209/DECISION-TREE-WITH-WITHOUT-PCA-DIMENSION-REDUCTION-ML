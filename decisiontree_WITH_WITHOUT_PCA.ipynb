{
 "cells": [
  {
   "cell_type": "markdown",
   "metadata": {},
   "source": [
    "WITHOUT PCA"
   ]
  },
  {
   "cell_type": "code",
   "execution_count": 13,
   "metadata": {},
   "outputs": [],
   "source": [
    "import numpy as np\n",
    "from sklearn import datasets\n",
    "from sklearn.model_selection import train_test_split\n",
    "from sklearn.metrics import confusion_matrix, accuracy_score\n",
    "data1= datasets.load_breast_cancer()\n",
    "X = data1.data\n",
    "y = data1.target\n",
    "X_train, X_test, y_train, y_test = train_test_split(X, y, test_size=0.4, random_state=0)\n",
    "\n"
   ]
  },
  {
   "cell_type": "code",
   "execution_count": 14,
   "metadata": {},
   "outputs": [
    {
     "data": {
      "text/plain": [
       "MinMaxScaler()"
      ]
     },
     "execution_count": 14,
     "metadata": {},
     "output_type": "execute_result"
    }
   ],
   "source": [
    "\n",
    "from sklearn.preprocessing import MinMaxScaler\n",
    "ss=MinMaxScaler()\n",
    "ss.fit(X_train)\n"
   ]
  },
  {
   "cell_type": "code",
   "execution_count": 15,
   "metadata": {},
   "outputs": [
    {
     "data": {
      "text/plain": [
       "array([[0.27959254, 0.44854772, 0.28965713, ..., 0.70651051, 0.39806782,\n",
       "        0.36568389],\n",
       "       [0.27028748, 0.64481328, 0.25736236, ..., 0.20685498, 0.17310726,\n",
       "        0.08319653],\n",
       "       [0.30995641, 0.24688797, 0.29641485, ..., 0.28301757, 0.1123817 ,\n",
       "        0.07807473],\n",
       "       ...,\n",
       "       [0.21396738, 0.12572614, 0.20571916, ..., 0.24199104, 0.18690852,\n",
       "        0.15608379],\n",
       "       [0.2056418 , 0.47551867, 0.20251814, ..., 0.28463658, 0.29751577,\n",
       "        0.12016547],\n",
       "       [0.41329154, 0.33900415, 0.42025893, ..., 0.64209439, 0.53312303,\n",
       "        0.44710749]])"
      ]
     },
     "execution_count": 15,
     "metadata": {},
     "output_type": "execute_result"
    }
   ],
   "source": [
    "X_train_scaled=ss.transform(X_train)\n",
    "X_test_scaled=ss.transform(X_test)\n",
    "X_train_scaled\n",
    "X_test_scaled"
   ]
  },
  {
   "cell_type": "code",
   "execution_count": 16,
   "metadata": {},
   "outputs": [
    {
     "data": {
      "text/plain": [
       "DecisionTreeClassifier(max_leaf_nodes=10, random_state=0)"
      ]
     },
     "execution_count": 16,
     "metadata": {},
     "output_type": "execute_result"
    }
   ],
   "source": [
    "from sklearn.tree import DecisionTreeClassifier\n",
    "Outcome_classifier=DecisionTreeClassifier(max_leaf_nodes=10,random_state=0)\n",
    "Outcome_classifier.fit(X_train,y_train)"
   ]
  },
  {
   "cell_type": "code",
   "execution_count": 17,
   "metadata": {},
   "outputs": [
    {
     "name": "stdout",
     "output_type": "stream",
     "text": [
      "ACCURACY 90.78947368421053\n"
     ]
    }
   ],
   "source": [
    "Y_predicted=Outcome_classifier.predict(X_test)\n",
    "\n",
    "print(\"ACCURACY\",accuracy_score(y_test,Y_predicted)*100)"
   ]
  },
  {
   "cell_type": "markdown",
   "metadata": {},
   "source": [
    "WITH PCA"
   ]
  },
  {
   "cell_type": "code",
   "execution_count": 18,
   "metadata": {},
   "outputs": [],
   "source": [
    "import numpy as np\n",
    "from sklearn import datasets\n",
    "from sklearn.model_selection import train_test_split\n",
    "from sklearn.metrics import confusion_matrix, accuracy_score\n",
    "data1= datasets.load_breast_cancer()\n",
    "X = data1.data\n",
    "y = data1.target\n",
    "X_train, X_test, y_train, y_test = train_test_split(X, y, test_size=0.4, random_state=0)"
   ]
  },
  {
   "cell_type": "code",
   "execution_count": 19,
   "metadata": {},
   "outputs": [
    {
     "data": {
      "text/plain": [
       "MinMaxScaler()"
      ]
     },
     "execution_count": 19,
     "metadata": {},
     "output_type": "execute_result"
    }
   ],
   "source": [
    "\n",
    "from sklearn.preprocessing import MinMaxScaler\n",
    "ss=MinMaxScaler()\n",
    "ss.fit(X_train)"
   ]
  },
  {
   "cell_type": "code",
   "execution_count": 20,
   "metadata": {},
   "outputs": [
    {
     "data": {
      "text/plain": [
       "StandardScaler()"
      ]
     },
     "execution_count": 20,
     "metadata": {},
     "output_type": "execute_result"
    }
   ],
   "source": [
    "from sklearn.decomposition import PCA\n",
    "from sklearn.preprocessing import StandardScaler\n",
    "pca=PCA(n_components=2)\n",
    "from sklearn.preprocessing import StandardScaler\n",
    "scaler=StandardScaler()\n",
    "scaler.fit(X_train,X_test)\n"
   ]
  },
  {
   "cell_type": "code",
   "execution_count": 21,
   "metadata": {},
   "outputs": [
    {
     "name": "stdout",
     "output_type": "stream",
     "text": [
      "(341, 2)\n",
      "(228, 2)\n"
     ]
    }
   ],
   "source": [
    "ca=PCA(n_components=2)\n",
    "\n",
    "X_train_PCA=pca.fit_transform(X_train)\n",
    "X_test_PCA=pca.transform(X_test)\n",
    "\n",
    "print(X_train_PCA.shape)\n",
    "print(X_test_PCA.shape)"
   ]
  },
  {
   "cell_type": "code",
   "execution_count": 22,
   "metadata": {},
   "outputs": [],
   "source": [
    "sc=StandardScaler()\n",
    "X_train_PCA=sc.fit_transform(X_train)\n",
    "X_test_PCA=sc.transform(X_test)"
   ]
  },
  {
   "cell_type": "code",
   "execution_count": 23,
   "metadata": {},
   "outputs": [
    {
     "data": {
      "text/plain": [
       "DecisionTreeClassifier(max_leaf_nodes=10, random_state=0)"
      ]
     },
     "execution_count": 23,
     "metadata": {},
     "output_type": "execute_result"
    }
   ],
   "source": [
    "from sklearn.tree import DecisionTreeClassifier\n",
    "Outcome_classifier=DecisionTreeClassifier(max_leaf_nodes=10,random_state=0)\n",
    "Outcome_classifier.fit(X_train_PCA,y_train.ravel())"
   ]
  },
  {
   "cell_type": "code",
   "execution_count": 24,
   "metadata": {},
   "outputs": [
    {
     "name": "stdout",
     "output_type": "stream",
     "text": [
      "ACCURACY  98.82697947214076\n"
     ]
    }
   ],
   "source": [
    "pred_train = Outcome_classifier.predict(X_train_PCA)\n",
    "pred_test=Outcome_classifier.predict(X_test_PCA)\n",
    "print(\"ACCURACY \",accuracy_score(y_train,pred_train)*100)"
   ]
  },
  {
   "cell_type": "code",
   "execution_count": null,
   "metadata": {},
   "outputs": [],
   "source": []
  }
 ],
 "metadata": {
  "kernelspec": {
   "display_name": "Python 3.9.12 ('base')",
   "language": "python",
   "name": "python3"
  },
  "language_info": {
   "codemirror_mode": {
    "name": "ipython",
    "version": 3
   },
   "file_extension": ".py",
   "mimetype": "text/x-python",
   "name": "python",
   "nbconvert_exporter": "python",
   "pygments_lexer": "ipython3",
   "version": "3.9.12"
  },
  "orig_nbformat": 4,
  "vscode": {
   "interpreter": {
    "hash": "a90aeebcf29d64a654773811cc170cb25061cb2498f10ac689db374c7bf325de"
   }
  }
 },
 "nbformat": 4,
 "nbformat_minor": 2
}
